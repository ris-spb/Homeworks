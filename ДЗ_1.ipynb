{
  "nbformat": 4,
  "nbformat_minor": 0,
  "metadata": {
    "colab": {
      "provenance": []
    },
    "kernelspec": {
      "name": "python3",
      "display_name": "Python 3"
    },
    "language_info": {
      "name": "python"
    }
  },
  "cells": [
    {
      "cell_type": "markdown",
      "source": [
        "# Домашнее задание №1"
      ],
      "metadata": {
        "id": "5hE-B9BdQJQl"
      }
    },
    {
      "cell_type": "markdown",
      "source": [
        "1) Создайте класс Chocolate (для определения шоколадного батончика), принимающий следующие аргументы при инициализации:\n",
        "\n",
        "*   цена батончика (тип - float)\n",
        "*   добавка к шоколаду (тип - str)\n",
        "*   наличие орехов (тип - bool)\n",
        "*   количество орехов (тип - int)\n",
        "\n",
        "\n",
        "\n",
        "\n"
      ],
      "metadata": {
        "id": "GNW_xMnEP5Up"
      }
    },
    {
      "cell_type": "code",
      "source": [
        "class Chocolate:\n",
        "    def __init__(self, price: float, addition: str, has_nuts: bool, nuts_count: int):\n",
        "        self.price = price\n",
        "        self.addition = addition\n",
        "        self.has_nuts = has_nuts\n",
        "        self.nuts_count = nuts_count"
      ],
      "metadata": {
        "id": "_G2jJ1ibPviw"
      },
      "execution_count": null,
      "outputs": []
    },
    {
      "cell_type": "markdown",
      "source": [
        "2) При инициализации необходимо проверять, чтобы цена батончика была больше нуля, если цена меньше нуля необходимо вызывать исключение ValueError с сообщением \"ОШИБКА! Цена батончика должна быть больше нуля!\""
      ],
      "metadata": {
        "id": "LuC5gBP1Qkce"
      }
    },
    {
      "cell_type": "code",
      "source": [
        "class Chocolate:\n",
        "    def __init__(self, price: float, addition: str, has_nuts: bool, nuts_count: int):\n",
        "        if price <= 0:\n",
        "            raise ValueError(\"ОШИБКА! Цена батончика должна быть больше нуля!\")\n",
        "        self.price = price\n",
        "        self.addition = addition\n",
        "        self.has_nuts = has_nuts\n",
        "        self.nuts_count = nuts_count"
      ],
      "metadata": {
        "id": "5HL9UBT7QhF8"
      },
      "execution_count": null,
      "outputs": []
    },
    {
      "cell_type": "markdown",
      "source": [
        "3) Реализуйте у класса метод show_my_chocolate, выводящий на печать \"Шоколадный батончик, добавка: {ДОБАВКА}\" в случае наличия добавки, а иначе должна отобразиться следующая фраза: \"Обычный шоколадный батончик\""
      ],
      "metadata": {
        "id": "ED5Ab4KLRUP-"
      }
    },
    {
      "cell_type": "code",
      "source": [
        "class Chocolate:\n",
        "    def __init__(self, price: float, addition: str, has_nuts: bool, nuts_count: int):\n",
        "        if price <= 0:\n",
        "            raise ValueError(\"ОШИБКА! Цена батончика должна быть больше нуля!\")\n",
        "\n",
        "        self.price = price\n",
        "        self.addition = addition\n",
        "        self.has_nuts = has_nuts\n",
        "        self.nuts_count = nuts_count\n",
        "\n",
        "    def show_my_chocolate(self):\n",
        "        if self.addition:\n",
        "            print(f\"Шоколадный батончик, добавка: {self.addition}\")\n",
        "        else:\n",
        "            print(\"Обычный шоколадный батончик\")"
      ],
      "metadata": {
        "id": "tPY5FKtgRUmw"
      },
      "execution_count": null,
      "outputs": []
    },
    {
      "cell_type": "markdown",
      "source": [
        "4) Реализуйте метод count_nuts, выводящий на печать столько * какое количество орехов присутствует в батончике"
      ],
      "metadata": {
        "id": "_cd48y2eRjTA"
      }
    },
    {
      "cell_type": "code",
      "source": [
        "class Chocolate:\n",
        "    def __init__(self, price: float, addition: str, has_nuts: bool, nuts_count: int):\n",
        "        if price <= 0:\n",
        "            raise ValueError(\"ОШИБКА! Цена батончика должна быть больше нуля!\")\n",
        "\n",
        "        self.price = price\n",
        "        self.addition = addition\n",
        "        self.has_nuts = has_nuts\n",
        "        self.nuts_count = nuts_count\n",
        "\n",
        "    def show_my_chocolate(self):\n",
        "        if self.addition:\n",
        "            print(f\"Шоколадный батончик, добавка: {self.addition}\")\n",
        "        else:\n",
        "            print(\"Обычный шоколадный батончик\")\n",
        "\n",
        "    def count_nuts(self):\n",
        "        print('*' * self.nuts_count)"
      ],
      "metadata": {
        "id": "ntQKZByNRjZc"
      },
      "execution_count": null,
      "outputs": []
    },
    {
      "cell_type": "markdown",
      "source": [
        "5) Переопределите метод __str__, который при применении функции print() к объекты класса Chocolate должен возвращать строку \"Шоколадный батончик, <ЦЕНА> рублей\""
      ],
      "metadata": {
        "id": "nbLtzyoKRrvL"
      }
    },
    {
      "cell_type": "code",
      "source": [
        "class Chocolate:\n",
        "    def __init__(self, price: float, addition: str, has_nuts: bool, nuts_count: int):\n",
        "        if price <= 0:\n",
        "            raise ValueError(\"ОШИБКА! Цена батончика должна быть больше нуля!\")\n",
        "\n",
        "        self.price = price\n",
        "        self.addition = addition\n",
        "        self.has_nuts = has_nuts\n",
        "        self.nuts_count = nuts_count\n",
        "\n",
        "    def show_my_chocolate(self):\n",
        "        if self.addition:\n",
        "            print(f\"Шоколадный батончик, добавка: {self.addition}\")\n",
        "        else:\n",
        "            print(\"Обычный шоколадный батончик\")\n",
        "\n",
        "    def count_nuts(self):\n",
        "        print('*' * self.nuts_count)\n",
        "\n",
        "    def __str__(self):\n",
        "        return f\"Шоколадный батончик, {self.price} рублей\"\n"
      ],
      "metadata": {
        "id": "XmbaCVIVRr3R"
      },
      "execution_count": null,
      "outputs": []
    },
    {
      "cell_type": "code",
      "source": [
        "baton1 = Chocolate(59.99, \"клубника\", True, 5)\n",
        "print(baton1)\n",
        "baton1.show_my_chocolate()\n",
        "baton1.count_nuts()"
      ],
      "metadata": {
        "colab": {
          "base_uri": "https://localhost:8080/"
        },
        "id": "Z0RQV_hfR9p2",
        "outputId": "d329a304-0783-4093-e82c-e801c43aae43"
      },
      "execution_count": null,
      "outputs": [
        {
          "output_type": "stream",
          "name": "stdout",
          "text": [
            "Шоколадный батончик, 59.99 рублей\n",
            "Шоколадный батончик, добавка: клубника\n",
            "*****\n"
          ]
        }
      ]
    },
    {
      "cell_type": "code",
      "source": [
        "baton2 = Chocolate(39.50, \"\", False, 0)\n",
        "print(baton2)\n",
        "baton2.show_my_chocolate()\n",
        "baton2.count_nuts()"
      ],
      "metadata": {
        "colab": {
          "base_uri": "https://localhost:8080/"
        },
        "id": "eJtHiaaFSIlN",
        "outputId": "b2d5e9eb-d51f-4a89-f298-335a7c03b099"
      },
      "execution_count": null,
      "outputs": [
        {
          "output_type": "stream",
          "name": "stdout",
          "text": [
            "Шоколадный батончик, 39.5 рублей\n",
            "Обычный шоколадный батончик\n",
            "\n"
          ]
        }
      ]
    },
    {
      "cell_type": "code",
      "source": [
        "baton3 = Chocolate(45.00, \"карамель\", False, 0)\n",
        "print(baton3)\n",
        "baton3.show_my_chocolate()\n",
        "baton3.count_nuts()"
      ],
      "metadata": {
        "colab": {
          "base_uri": "https://localhost:8080/"
        },
        "id": "4mbKBAqBSSTd",
        "outputId": "8a24829a-ae11-4dc1-a6db-54d34f8f1302"
      },
      "execution_count": null,
      "outputs": [
        {
          "output_type": "stream",
          "name": "stdout",
          "text": [
            "Шоколадный батончик, 45.0 рублей\n",
            "Шоколадный батончик, добавка: карамель\n",
            "\n"
          ]
        }
      ]
    }
  ]
}